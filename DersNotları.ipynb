{
  "nbformat": 4,
  "nbformat_minor": 0,
  "metadata": {
    "colab": {
      "provenance": [],
      "authorship_tag": "ABX9TyM1DdWgz3fzp/iDpy3BJ0Ah",
      "include_colab_link": true
    },
    "kernelspec": {
      "name": "python3",
      "display_name": "Python 3"
    },
    "language_info": {
      "name": "python"
    }
  },
  "cells": [
    {
      "cell_type": "markdown",
      "metadata": {
        "id": "view-in-github",
        "colab_type": "text"
      },
      "source": [
        "<a href=\"https://colab.research.google.com/github/ersaozdemir/PythonVeriAnalizi/blob/main/DersNotlar%C4%B1.ipynb\" target=\"_parent\"><img src=\"https://colab.research.google.com/assets/colab-badge.svg\" alt=\"Open In Colab\"/></a>"
      ]
    },
    {
      "cell_type": "markdown",
      "source": [
        "# *DERS1*\n",
        "Bist100 Analizi\n"
      ],
      "metadata": {
        "id": "9tTo33AJpruK"
      }
    },
    {
      "cell_type": "code",
      "source": [],
      "metadata": {
        "id": "OPVbOsuFp-5C"
      },
      "execution_count": null,
      "outputs": []
    }
  ]
}